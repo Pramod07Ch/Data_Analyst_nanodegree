{
 "cells": [
  {
   "cell_type": "markdown",
   "metadata": {},
   "source": [
    "\n",
    "# WeRateDogs - Twitter Data"
   ]
  },
  {
   "cell_type": "markdown",
   "metadata": {},
   "source": [
    "Reoprt by Pramod kumar"
   ]
  },
  {
   "cell_type": "markdown",
   "metadata": {},
   "source": [
    "### Gather of data"
   ]
  },
  {
   "cell_type": "markdown",
   "metadata": {},
   "source": [
    "In Gather step, i have considered 3 different files \n",
    "- First one, twitter-archive-enhanced.csv - downloaded from given link in instructions\n",
    "- second, image-predictions.tsv - gathered data programatically using requests\n",
    "- Third, i could not create twitter account and used the twee_json.txt file\n",
    "\n",
    "I have considered these three files as three dataframes.\n",
    "- twitter_enhanced_df, image_predictions_df, tweet_api_data"
   ]
  },
  {
   "cell_type": "markdown",
   "metadata": {},
   "source": [
    "### Asses the data <br>\n",
    "Gone throug the data to asses the information present in them. By looking into datatyes, info(), does it have any null values. This is followed for all three dfs individually and addresses few quality issues and tidiness wihich can be done.\n",
    "twitter_enhanced_df\n",
    "\n",
    "    Many missing values in reply status, retweeted status ids and expanded urls\n",
    "    Data type errors. Eg. ids should be str, timestamp should be datetime format\n",
    "    The missingcategory of dog names are written as None instaed of NaN\n",
    "    On denominator value is zero in rating_denominator\n",
    "    image_predictions_df\n",
    "    there are non dog pictures in the data\n",
    "\n",
    "tweet_api_data\n",
    "\n",
    "    id is int but need to be str\n",
    "    some tweets are retweets should be removed\n",
    "    Many empty or null value columns are present such as geo, etc.\n",
    "\n",
    "Tidiness\n",
    "\n",
    "    doggo, floofer, pupper, puppo columns in twitter_archive_enhanced.csv should be combined into a single column as this is one variable that identify stage of dog.\n",
    "    make a main dataframe from all dfs twitter_enhanced_df, tweet_api_data, image_predictions_df\n"
   ]
  },
  {
   "cell_type": "markdown",
   "metadata": {},
   "source": [
    "### Clean"
   ]
  },
  {
   "cell_type": "markdown",
   "metadata": {},
   "source": [
    "- The tidiness points are considered main in cleaning. \n",
    "- created copies of originasl dfs and then changed datatypes from int to str in tweet_id, timestamp to timedate format\n",
    "- Multiple dog names are converted to single into stage column\n",
    "- First merged the 3 different dataframes into one based on tweet_id. \n",
    "- Then merge over datframe is done . After merging of the dataframes is done on the tweet id for twitter_enhanced_df  and image_predictions_df, while id and tweet_id for combined one from above and tweet_data.\n",
    "- In next step, retweets are removed based on the columns 'retweeted_status_id' as if it is doesnot have any entry then it is normal. Then null values of in_reply_to_status_id is considered again for retweeted data elimination. Then those columns are dropped.\n",
    "- merged main is copied and original is untouched.\n",
    "- Then cleaning of 0 in denominators is done.\n",
    "- non dog rows are also dropped. url with no images are null so they are also dropped. This has shown no null vlaues in the main df.\n",
    "- Then names with None and starnge names are changed nan values.\n",
    "- After processing above steps rows have been reduced from 2175 to 1667\n",
    "- In visualization step, the count of names shown after processing, cooper tops the list.\n",
    "- Relation between retweets count and faavorites instead of like is also looked\n",
    "- Then i looked into predictions of algorithm to look which dog breed are mostly looked. In p1, it is golden_retriever and Labrador_retriever. in p2, Labrador_retriever and golden_retriever, In p3, Labrador_retriever and Chihuahua."
   ]
  },
  {
   "cell_type": "markdown",
   "metadata": {},
   "source": [
    "### Save working file\n",
    "i saved in .csv format with name final_df to local disk"
   ]
  },
  {
   "cell_type": "code",
   "execution_count": null,
   "metadata": {},
   "outputs": [],
   "source": []
  }
 ],
 "metadata": {
  "kernelspec": {
   "display_name": "Python 3",
   "language": "python",
   "name": "python3"
  },
  "language_info": {
   "codemirror_mode": {
    "name": "ipython",
    "version": 3
   },
   "file_extension": ".py",
   "mimetype": "text/x-python",
   "name": "python",
   "nbconvert_exporter": "python",
   "pygments_lexer": "ipython3",
   "version": "3.6.3"
  }
 },
 "nbformat": 4,
 "nbformat_minor": 2
}
